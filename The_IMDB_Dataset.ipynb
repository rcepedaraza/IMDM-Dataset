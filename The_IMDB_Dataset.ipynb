{
 "cells": [
  {
   "cell_type": "markdown",
   "id": "82ecdd6c",
   "metadata": {},
   "source": [
    "### Loading the IMDB dataset"
   ]
  },
  {
   "cell_type": "markdown",
   "id": "b23803bb",
   "metadata": {},
   "source": [
    "Two-class classification of movie reviews as positive or negative, based on the text content of the reviews"
   ]
  },
  {
   "cell_type": "code",
   "execution_count": 1,
   "id": "1991737f",
   "metadata": {},
   "outputs": [],
   "source": [
    "import tensorflow as tf\n",
    "import numpy as np\n",
    "import matplotlib.pyplot as plt\n",
    "import seaborn as sns\n",
    "import pandas as pd\n",
    "import matplotlib as mpl\n",
    "\n",
    "from tensorflow.keras.datasets import imdb\n",
    "from tensorflow.keras import models\n",
    "from tensorflow.keras import layers\n",
    "\n",
    "mpl.rcParams['figure.dpi'] = 125\n",
    "sns.set_style('darkgrid')"
   ]
  },
  {
   "cell_type": "code",
   "execution_count": 2,
   "id": "04ac535e",
   "metadata": {},
   "outputs": [
    {
     "name": "stderr",
     "output_type": "stream",
     "text": [
      "<__array_function__ internals>:5: VisibleDeprecationWarning: Creating an ndarray from ragged nested sequences (which is a list-or-tuple of lists-or-tuples-or ndarrays with different lengths or shapes) is deprecated. If you meant to do this, you must specify 'dtype=object' when creating the ndarray.\n",
      "/home/ricardo/anaconda3/lib/python3.8/site-packages/tensorflow/python/keras/datasets/imdb.py:159: VisibleDeprecationWarning: Creating an ndarray from ragged nested sequences (which is a list-or-tuple of lists-or-tuples-or ndarrays with different lengths or shapes) is deprecated. If you meant to do this, you must specify 'dtype=object' when creating the ndarray.\n",
      "  x_train, y_train = np.array(xs[:idx]), np.array(labels[:idx])\n",
      "/home/ricardo/anaconda3/lib/python3.8/site-packages/tensorflow/python/keras/datasets/imdb.py:160: VisibleDeprecationWarning: Creating an ndarray from ragged nested sequences (which is a list-or-tuple of lists-or-tuples-or ndarrays with different lengths or shapes) is deprecated. If you meant to do this, you must specify 'dtype=object' when creating the ndarray.\n",
      "  x_test, y_test = np.array(xs[idx:]), np.array(labels[idx:])\n"
     ]
    }
   ],
   "source": [
    "# The top 10,000 most frequently ocurring words in the training data\n",
    "# The train dataset are list of reviews. Each review is a list of word indices\n",
    "# The test datasets are list of 0s and 1s (negative and positive)\n",
    "(train_data, train_labels), (test_data, test_labels) = imdb.load_data(num_words=10000)"
   ]
  },
  {
   "cell_type": "code",
   "execution_count": 3,
   "id": "e0752dbb",
   "metadata": {},
   "outputs": [
    {
     "name": "stdout",
     "output_type": "stream",
     "text": [
      "(25000,)\n",
      "(25000,)\n",
      "(25000,)\n",
      "(25000,)\n"
     ]
    }
   ],
   "source": [
    "print(train_data.shape)\n",
    "print(test_data.shape)\n",
    "print(train_labels.shape)\n",
    "print(test_labels.shape)"
   ]
  },
  {
   "cell_type": "code",
   "execution_count": 4,
   "id": "7973070e",
   "metadata": {},
   "outputs": [
    {
     "name": "stdout",
     "output_type": "stream",
     "text": [
      "[1, 14, 22, 16, 43, 530, 973, 1622, 1385, 65, 458, 4468, 66, 3941, 4, 173, 36, 256, 5, 25, 100, 43, 838, 112, 50, 670, 2, 9, 35, 480, 284, 5, 150, 4, 172, 112, 167, 2, 336, 385, 39, 4, 172, 4536, 1111, 17, 546, 38, 13, 447, 4, 192, 50, 16, 6, 147, 2025, 19, 14, 22, 4, 1920, 4613, 469, 4, 22, 71, 87, 12, 16, 43, 530, 38, 76, 15, 13, 1247, 4, 22, 17, 515, 17, 12, 16, 626, 18, 2, 5, 62, 386, 12, 8, 316, 8, 106, 5, 4, 2223, 5244, 16, 480, 66, 3785, 33, 4, 130, 12, 16, 38, 619, 5, 25, 124, 51, 36, 135, 48, 25, 1415, 33, 6, 22, 12, 215, 28, 77, 52, 5, 14, 407, 16, 82, 2, 8, 4, 107, 117, 5952, 15, 256, 4, 2, 7, 3766, 5, 723, 36, 71, 43, 530, 476, 26, 400, 317, 46, 7, 4, 2, 1029, 13, 104, 88, 4, 381, 15, 297, 98, 32, 2071, 56, 26, 141, 6, 194, 7486, 18, 4, 226, 22, 21, 134, 476, 26, 480, 5, 144, 30, 5535, 18, 51, 36, 28, 224, 92, 25, 104, 4, 226, 65, 16, 38, 1334, 88, 12, 16, 283, 5, 16, 4472, 113, 103, 32, 15, 16, 5345, 19, 178, 32]\n"
     ]
    }
   ],
   "source": [
    "# Printing first sample of training data\n",
    "print(train_data[0])"
   ]
  },
  {
   "cell_type": "code",
   "execution_count": 5,
   "id": "6d5b319a",
   "metadata": {},
   "outputs": [
    {
     "name": "stdout",
     "output_type": "stream",
     "text": [
      "[1 0 0 ... 0 1 0]\n"
     ]
    }
   ],
   "source": [
    "print(train_labels)"
   ]
  },
  {
   "cell_type": "code",
   "execution_count": 6,
   "id": "e490a842",
   "metadata": {},
   "outputs": [
    {
     "name": "stdout",
     "output_type": "stream",
     "text": [
      "9999\n"
     ]
    }
   ],
   "source": [
    "# No word index will exceed 10,000\n",
    "print(max([max(sequence) for sequence in train_data]))"
   ]
  },
  {
   "cell_type": "markdown",
   "id": "2e290096",
   "metadata": {},
   "source": [
    "### Decode back to English"
   ]
  },
  {
   "cell_type": "code",
   "execution_count": 7,
   "id": "ff9b3f00",
   "metadata": {},
   "outputs": [],
   "source": [
    "# Dictionary mapping words to an integer index.\n",
    "word_indx_dict = imdb.get_word_index() # {'fawn': 34701...}"
   ]
  },
  {
   "cell_type": "code",
   "execution_count": 8,
   "id": "030e33e0",
   "metadata": {},
   "outputs": [],
   "source": [
    "# Mapping integers indices to words.\n",
    "reverse_word_index = dict([\n",
    "    (value, key) for (key, value) in word_indx_dict.items()\n",
    "]) # {34701: 'fawn'...}"
   ]
  },
  {
   "cell_type": "code",
   "execution_count": 9,
   "id": "d4708cb3",
   "metadata": {},
   "outputs": [
    {
     "name": "stdout",
     "output_type": "stream",
     "text": [
      "? this film was just brilliant casting location scenery story direction everyone's really suited the part they played and you could just imagine being there robert ? is an amazing actor and now the same being director ? father came from the same scottish island as myself so i loved the fact there was a real connection with this film the witty remarks throughout the film were great it was just brilliant so much that i bought the film as soon as it was released for ? and would recommend it to everyone to watch and the fly fishing was amazing really cried at the end it was so sad and you know what they say if you cry at a film it must have been good and this definitely was also ? to the two little boy's that played the ? of norman and paul they were just brilliant children are often left out of the ? list i think because the stars that play them all grown up are such a big profile for the whole film but these children are amazing and should be praised for what they have done don't you think the whole story was so lovely because it was true and was someone's life after all that was shared with us all\n"
     ]
    }
   ],
   "source": [
    "# offset by three becuase reserved indices\n",
    "decoded_review = ' '.join(reverse_word_index.get(i-3, '?') for i in train_data[0])\n",
    "print(decoded_review)"
   ]
  },
  {
   "cell_type": "markdown",
   "id": "91d09910",
   "metadata": {},
   "source": [
    "###  Preparing the data"
   ]
  },
  {
   "cell_type": "markdown",
   "id": "e60e09a0",
   "metadata": {},
   "source": [
    "#### Encoding the integer sequences into a binary matrix"
   ]
  },
  {
   "cell_type": "code",
   "execution_count": 10,
   "id": "8b05fd9a",
   "metadata": {},
   "outputs": [],
   "source": [
    "def vectorized_sequences(sequences, dimension=10000):\n",
    "    results = np.zeros((len(sequences), dimension))\n",
    "#     print(results.shape)\n",
    "    for i, sequence in enumerate(sequences):\n",
    "        results[i, sequence] = 1.\n",
    "    return results"
   ]
  },
  {
   "cell_type": "code",
   "execution_count": 11,
   "id": "949c1432",
   "metadata": {},
   "outputs": [],
   "source": [
    "# Vectorized training data\n",
    "x_train = vectorized_sequences(train_data)\n",
    "\n",
    "# Vectorized test data\n",
    "x_test = vectorized_sequences(test_data)"
   ]
  },
  {
   "cell_type": "code",
   "execution_count": 12,
   "id": "594bb276",
   "metadata": {},
   "outputs": [
    {
     "data": {
      "text/plain": [
       "array([[0., 1., 1., ..., 0., 0., 0.],\n",
       "       [0., 1., 1., ..., 0., 0., 0.],\n",
       "       [0., 1., 1., ..., 0., 0., 0.],\n",
       "       ...,\n",
       "       [0., 1., 1., ..., 0., 0., 0.],\n",
       "       [0., 1., 1., ..., 0., 0., 0.],\n",
       "       [0., 1., 1., ..., 0., 0., 0.]])"
      ]
     },
     "execution_count": 12,
     "metadata": {},
     "output_type": "execute_result"
    }
   ],
   "source": [
    "x_train"
   ]
  },
  {
   "cell_type": "code",
   "execution_count": 13,
   "id": "a4bfed01",
   "metadata": {},
   "outputs": [],
   "source": [
    "# Vectorize labels \n",
    "y_train = np.asarray(train_labels).astype('float32').reshape(-1, 1)\n",
    "y_test = np.asarray(test_labels).astype('float32').reshape(-1, 1)"
   ]
  },
  {
   "cell_type": "code",
   "execution_count": 14,
   "id": "ea38f638",
   "metadata": {},
   "outputs": [
    {
     "data": {
      "text/plain": [
       "array([[1.],\n",
       "       [0.],\n",
       "       [0.],\n",
       "       ...,\n",
       "       [0.],\n",
       "       [1.],\n",
       "       [0.]], dtype=float32)"
      ]
     },
     "execution_count": 14,
     "metadata": {},
     "output_type": "execute_result"
    }
   ],
   "source": [
    "y_train"
   ]
  },
  {
   "cell_type": "markdown",
   "id": "c72c466b",
   "metadata": {},
   "source": [
    "### Building Network"
   ]
  },
  {
   "cell_type": "code",
   "execution_count": 15,
   "id": "785a584d",
   "metadata": {},
   "outputs": [],
   "source": [
    "model = models.Sequential()\n",
    "model.add(layers.Dense(units=16,\n",
    "                       activation='relu',\n",
    "                       input_shape=(10000,)))\n",
    "\n",
    "model.add(layers.Dense(units=16,\n",
    "                       activation='relu',))\n",
    "\n",
    "model.add(layers.Dense(units=1,\n",
    "                       activation='sigmoid'))"
   ]
  },
  {
   "cell_type": "markdown",
   "id": "a63c102c",
   "metadata": {},
   "source": [
    "### Compiling the model"
   ]
  },
  {
   "cell_type": "code",
   "execution_count": 16,
   "id": "15f88b69",
   "metadata": {},
   "outputs": [],
   "source": [
    "model.compile(optimizer='rmsprop',\n",
    "              loss='binary_crossentropy',\n",
    "              metrics=['accuracy'])"
   ]
  },
  {
   "cell_type": "markdown",
   "id": "c6742e48",
   "metadata": {},
   "source": [
    "### Setting aside a validation set"
   ]
  },
  {
   "cell_type": "code",
   "execution_count": 17,
   "id": "5c15583f",
   "metadata": {},
   "outputs": [],
   "source": [
    "x_val = x_train[:10000]\n",
    "partial_x_train = x_train[10000:]\n",
    "\n",
    "y_val = y_train[:10000]\n",
    "partial_y_train = y_train[10000:]"
   ]
  },
  {
   "cell_type": "markdown",
   "id": "e0dce00f",
   "metadata": {},
   "source": [
    "Train the model for 20 _epochs_, in _mini-batches_ of 512 samples."
   ]
  },
  {
   "cell_type": "markdown",
   "id": "b5d2aea3",
   "metadata": {},
   "source": [
    "### Training your model"
   ]
  },
  {
   "cell_type": "code",
   "execution_count": 18,
   "id": "173546a4",
   "metadata": {},
   "outputs": [
    {
     "data": {
      "text/plain": [
       "(15000, 10000)"
      ]
     },
     "execution_count": 18,
     "metadata": {},
     "output_type": "execute_result"
    }
   ],
   "source": [
    "partial_x_train.shape"
   ]
  },
  {
   "cell_type": "code",
   "execution_count": 19,
   "id": "d79a0973",
   "metadata": {},
   "outputs": [
    {
     "data": {
      "text/plain": [
       "(15000, 1)"
      ]
     },
     "execution_count": 19,
     "metadata": {},
     "output_type": "execute_result"
    }
   ],
   "source": [
    "partial_y_train.shape"
   ]
  },
  {
   "cell_type": "code",
   "execution_count": 20,
   "id": "030a537e",
   "metadata": {},
   "outputs": [
    {
     "data": {
      "text/plain": [
       "((10000, 10000), (10000, 1))"
      ]
     },
     "execution_count": 20,
     "metadata": {},
     "output_type": "execute_result"
    }
   ],
   "source": [
    "x_val.shape, y_val.shape"
   ]
  },
  {
   "cell_type": "code",
   "execution_count": 21,
   "id": "1af8efcd",
   "metadata": {
    "scrolled": false
   },
   "outputs": [],
   "source": [
    "EPOCHS = 20\n",
    "history = model.fit(partial_x_train,\n",
    "                    partial_y_train,\n",
    "                    epochs=EPOCHS,\n",
    "                    batch_size=512,\n",
    "                    verbose=0,\n",
    "                    validation_data=(x_val, y_val))"
   ]
  },
  {
   "cell_type": "code",
   "execution_count": 22,
   "id": "ffee3527",
   "metadata": {},
   "outputs": [],
   "source": [
    "history_dict = history.history"
   ]
  },
  {
   "cell_type": "code",
   "execution_count": 23,
   "id": "a301c5c3",
   "metadata": {},
   "outputs": [
    {
     "data": {
      "text/plain": [
       "dict_keys(['loss', 'accuracy', 'val_loss', 'val_accuracy'])"
      ]
     },
     "execution_count": 23,
     "metadata": {},
     "output_type": "execute_result"
    }
   ],
   "source": [
    "history_dict.keys()"
   ]
  },
  {
   "cell_type": "code",
   "execution_count": 24,
   "id": "c5f0c32d",
   "metadata": {},
   "outputs": [],
   "source": [
    "history_df = pd.DataFrame(history_dict)"
   ]
  },
  {
   "cell_type": "markdown",
   "id": "52d42a5d",
   "metadata": {},
   "source": [
    "### Plotting the training and validation loss"
   ]
  },
  {
   "cell_type": "code",
   "execution_count": 25,
   "id": "50ca78ea",
   "metadata": {},
   "outputs": [
    {
     "data": {
      "text/html": [
       "<div>\n",
       "<style scoped>\n",
       "    .dataframe tbody tr th:only-of-type {\n",
       "        vertical-align: middle;\n",
       "    }\n",
       "\n",
       "    .dataframe tbody tr th {\n",
       "        vertical-align: top;\n",
       "    }\n",
       "\n",
       "    .dataframe thead th {\n",
       "        text-align: right;\n",
       "    }\n",
       "</style>\n",
       "<table border=\"1\" class=\"dataframe\">\n",
       "  <thead>\n",
       "    <tr style=\"text-align: right;\">\n",
       "      <th></th>\n",
       "      <th>loss</th>\n",
       "      <th>accuracy</th>\n",
       "      <th>val_loss</th>\n",
       "      <th>val_accuracy</th>\n",
       "      <th>epochs</th>\n",
       "    </tr>\n",
       "  </thead>\n",
       "  <tbody>\n",
       "    <tr>\n",
       "      <th>0</th>\n",
       "      <td>0.527494</td>\n",
       "      <td>0.776933</td>\n",
       "      <td>0.435706</td>\n",
       "      <td>0.8367</td>\n",
       "      <td>1</td>\n",
       "    </tr>\n",
       "    <tr>\n",
       "      <th>1</th>\n",
       "      <td>0.322372</td>\n",
       "      <td>0.900067</td>\n",
       "      <td>0.316783</td>\n",
       "      <td>0.8843</td>\n",
       "      <td>2</td>\n",
       "    </tr>\n",
       "    <tr>\n",
       "      <th>2</th>\n",
       "      <td>0.234458</td>\n",
       "      <td>0.928533</td>\n",
       "      <td>0.293234</td>\n",
       "      <td>0.8839</td>\n",
       "      <td>3</td>\n",
       "    </tr>\n",
       "    <tr>\n",
       "      <th>3</th>\n",
       "      <td>0.186324</td>\n",
       "      <td>0.941133</td>\n",
       "      <td>0.286681</td>\n",
       "      <td>0.8847</td>\n",
       "      <td>4</td>\n",
       "    </tr>\n",
       "    <tr>\n",
       "      <th>4</th>\n",
       "      <td>0.150573</td>\n",
       "      <td>0.953533</td>\n",
       "      <td>0.277592</td>\n",
       "      <td>0.8897</td>\n",
       "      <td>5</td>\n",
       "    </tr>\n",
       "    <tr>\n",
       "      <th>5</th>\n",
       "      <td>0.125968</td>\n",
       "      <td>0.962400</td>\n",
       "      <td>0.290734</td>\n",
       "      <td>0.8883</td>\n",
       "      <td>6</td>\n",
       "    </tr>\n",
       "    <tr>\n",
       "      <th>6</th>\n",
       "      <td>0.103759</td>\n",
       "      <td>0.970800</td>\n",
       "      <td>0.312156</td>\n",
       "      <td>0.8842</td>\n",
       "      <td>7</td>\n",
       "    </tr>\n",
       "    <tr>\n",
       "      <th>7</th>\n",
       "      <td>0.084929</td>\n",
       "      <td>0.979000</td>\n",
       "      <td>0.332193</td>\n",
       "      <td>0.8836</td>\n",
       "      <td>8</td>\n",
       "    </tr>\n",
       "    <tr>\n",
       "      <th>8</th>\n",
       "      <td>0.073288</td>\n",
       "      <td>0.979200</td>\n",
       "      <td>0.353911</td>\n",
       "      <td>0.8813</td>\n",
       "      <td>9</td>\n",
       "    </tr>\n",
       "    <tr>\n",
       "      <th>9</th>\n",
       "      <td>0.057236</td>\n",
       "      <td>0.986867</td>\n",
       "      <td>0.374253</td>\n",
       "      <td>0.8744</td>\n",
       "      <td>10</td>\n",
       "    </tr>\n",
       "    <tr>\n",
       "      <th>10</th>\n",
       "      <td>0.047735</td>\n",
       "      <td>0.989200</td>\n",
       "      <td>0.402636</td>\n",
       "      <td>0.8712</td>\n",
       "      <td>11</td>\n",
       "    </tr>\n",
       "    <tr>\n",
       "      <th>11</th>\n",
       "      <td>0.038018</td>\n",
       "      <td>0.992400</td>\n",
       "      <td>0.427619</td>\n",
       "      <td>0.8752</td>\n",
       "      <td>12</td>\n",
       "    </tr>\n",
       "    <tr>\n",
       "      <th>12</th>\n",
       "      <td>0.032155</td>\n",
       "      <td>0.993067</td>\n",
       "      <td>0.455440</td>\n",
       "      <td>0.8706</td>\n",
       "      <td>13</td>\n",
       "    </tr>\n",
       "    <tr>\n",
       "      <th>13</th>\n",
       "      <td>0.023446</td>\n",
       "      <td>0.996333</td>\n",
       "      <td>0.507511</td>\n",
       "      <td>0.8668</td>\n",
       "      <td>14</td>\n",
       "    </tr>\n",
       "    <tr>\n",
       "      <th>14</th>\n",
       "      <td>0.021746</td>\n",
       "      <td>0.995733</td>\n",
       "      <td>0.512069</td>\n",
       "      <td>0.8702</td>\n",
       "      <td>15</td>\n",
       "    </tr>\n",
       "    <tr>\n",
       "      <th>15</th>\n",
       "      <td>0.012930</td>\n",
       "      <td>0.998867</td>\n",
       "      <td>0.585765</td>\n",
       "      <td>0.8648</td>\n",
       "      <td>16</td>\n",
       "    </tr>\n",
       "    <tr>\n",
       "      <th>16</th>\n",
       "      <td>0.014447</td>\n",
       "      <td>0.997533</td>\n",
       "      <td>0.580279</td>\n",
       "      <td>0.8662</td>\n",
       "      <td>17</td>\n",
       "    </tr>\n",
       "    <tr>\n",
       "      <th>17</th>\n",
       "      <td>0.008413</td>\n",
       "      <td>0.999600</td>\n",
       "      <td>0.610038</td>\n",
       "      <td>0.8646</td>\n",
       "      <td>18</td>\n",
       "    </tr>\n",
       "    <tr>\n",
       "      <th>18</th>\n",
       "      <td>0.008198</td>\n",
       "      <td>0.999133</td>\n",
       "      <td>0.645693</td>\n",
       "      <td>0.8636</td>\n",
       "      <td>19</td>\n",
       "    </tr>\n",
       "    <tr>\n",
       "      <th>19</th>\n",
       "      <td>0.004050</td>\n",
       "      <td>0.999867</td>\n",
       "      <td>0.673502</td>\n",
       "      <td>0.8647</td>\n",
       "      <td>20</td>\n",
       "    </tr>\n",
       "  </tbody>\n",
       "</table>\n",
       "</div>"
      ],
      "text/plain": [
       "        loss  accuracy  val_loss  val_accuracy  epochs\n",
       "0   0.527494  0.776933  0.435706        0.8367       1\n",
       "1   0.322372  0.900067  0.316783        0.8843       2\n",
       "2   0.234458  0.928533  0.293234        0.8839       3\n",
       "3   0.186324  0.941133  0.286681        0.8847       4\n",
       "4   0.150573  0.953533  0.277592        0.8897       5\n",
       "5   0.125968  0.962400  0.290734        0.8883       6\n",
       "6   0.103759  0.970800  0.312156        0.8842       7\n",
       "7   0.084929  0.979000  0.332193        0.8836       8\n",
       "8   0.073288  0.979200  0.353911        0.8813       9\n",
       "9   0.057236  0.986867  0.374253        0.8744      10\n",
       "10  0.047735  0.989200  0.402636        0.8712      11\n",
       "11  0.038018  0.992400  0.427619        0.8752      12\n",
       "12  0.032155  0.993067  0.455440        0.8706      13\n",
       "13  0.023446  0.996333  0.507511        0.8668      14\n",
       "14  0.021746  0.995733  0.512069        0.8702      15\n",
       "15  0.012930  0.998867  0.585765        0.8648      16\n",
       "16  0.014447  0.997533  0.580279        0.8662      17\n",
       "17  0.008413  0.999600  0.610038        0.8646      18\n",
       "18  0.008198  0.999133  0.645693        0.8636      19\n",
       "19  0.004050  0.999867  0.673502        0.8647      20"
      ]
     },
     "execution_count": 25,
     "metadata": {},
     "output_type": "execute_result"
    }
   ],
   "source": [
    "history_df['epochs'] = range(1, EPOCHS + 1)\n",
    "history_df"
   ]
  },
  {
   "cell_type": "code",
   "execution_count": 26,
   "id": "e78fc4cf",
   "metadata": {},
   "outputs": [
    {
     "data": {
      "image/png": "[encoded data removed]",
      "text/plain": [
       "<Figure size 750x500 with 1 Axes>"
      ]
     },
     "metadata": {},
     "output_type": "display_data"
    }
   ],
   "source": [
    "plt.plot(history_df['epochs'], \n",
    "         history_df['loss'],\n",
    "         linestyle='--',\n",
    "         marker='.',\n",
    "         label='Training Loss')\n",
    "\n",
    "plt.plot(history_df['epochs'], \n",
    "         history_df['val_loss'],\n",
    "         linestyle='-', c='r',\n",
    "         marker='.',\n",
    "         label='Validation Loss')\n",
    "\n",
    "plt.legend()\n",
    "plt.xlabel('EPOCHS')\n",
    "plt.ylabel('Loss')\n",
    "plt.xticks(range(1, EPOCHS + 1))\n",
    "plt.title('Training and Validation Loss')\n",
    "plt.show()"
   ]
  },
  {
   "cell_type": "markdown",
   "id": "b8fb3529",
   "metadata": {},
   "source": [
    "## Plotting the training and validation accuracy"
   ]
  },
  {
   "cell_type": "code",
   "execution_count": 27,
   "id": "d7202b95",
   "metadata": {},
   "outputs": [
    {
     "data": {
      "image/png": "[encoded data removed]",
      "text/plain": [
       "<Figure size 750x500 with 1 Axes>"
      ]
     },
     "metadata": {},
     "output_type": "display_data"
    }
   ],
   "source": [
    "plt.clf()\n",
    "\n",
    "plt.plot(history_df['epochs'], \n",
    "         history_df['accuracy'],\n",
    "         linestyle='--',\n",
    "         marker='.',\n",
    "         label='Training Accuracy')\n",
    "\n",
    "plt.plot(history_df['epochs'], \n",
    "         history_df['val_accuracy'],\n",
    "         linestyle='-', c='r',\n",
    "         marker='.',\n",
    "         label='Validation Accuracy')\n",
    "\n",
    "plt.legend()\n",
    "plt.xlabel('EPOCHS')\n",
    "plt.ylabel('Accuracy')\n",
    "plt.xticks(range(1, EPOCHS + 1))\n",
    "plt.title('Training and Validation Accuracy')\n",
    "plt.show()"
   ]
  },
  {
   "cell_type": "markdown",
   "id": "59990858",
   "metadata": {},
   "source": [
    "### We can see that we are overoptimizing on the training data. In other words, we are __overfitting__.\n",
    "\n",
    "- To prevent _overfitting_ we could stop training after the third or fourth epoch."
   ]
  },
  {
   "cell_type": "markdown",
   "id": "42fd38fb",
   "metadata": {},
   "source": [
    "## Retraining model "
   ]
  },
  {
   "cell_type": "code",
   "execution_count": 32,
   "id": "8e7926ea",
   "metadata": {},
   "outputs": [
    {
     "name": "stdout",
     "output_type": "stream",
     "text": [
      "Epoch 1/4\n",
      "49/49 [==============================] - 1s 8ms/step - loss: 0.5813 - accuracy: 0.7400\n",
      "Epoch 2/4\n",
      "49/49 [==============================] - 0s 8ms/step - loss: 0.2042 - accuracy: 0.9249\n",
      "Epoch 3/4\n",
      "49/49 [==============================] - 0s 8ms/step - loss: 0.1414 - accuracy: 0.9541\n",
      "Epoch 4/4\n",
      "49/49 [==============================] - 0s 8ms/step - loss: 0.1104 - accuracy: 0.9649\n",
      "782/782 [==============================] - 1s 2ms/step - loss: 0.3989 - accuracy: 0.8703\n"
     ]
    }
   ],
   "source": [
    "model = models.Sequential()\n",
    "\n",
    "model.add(layers.Dense(16, activation='relu',\n",
    "                       input_shape=(10000,)))\n",
    "model.add(layers.Dense(32, activation='relu'))\n",
    "model.add(layers.Dense(64, activation='relu'))\n",
    "model.add(layers.Dense(1, activation='sigmoid'))\n",
    "\n",
    "model.compile(optimizer='Adam',\n",
    "              loss='binary_crossentropy',\n",
    "              metrics=['accuracy'])\n",
    "\n",
    "history = model.fit(x_train, y_train, \n",
    "          epochs=4,\n",
    "          batch_size=512)\n",
    "\n",
    "results_dict=model.evaluate(x_test, y_test, return_dict=True)"
   ]
  },
  {
   "cell_type": "code",
   "execution_count": 33,
   "id": "57e1a7e2",
   "metadata": {},
   "outputs": [
    {
     "data": {
      "text/plain": [
       "{'loss': 0.39891862869262695, 'accuracy': 0.8703200221061707}"
      ]
     },
     "execution_count": 33,
     "metadata": {},
     "output_type": "execute_result"
    }
   ],
   "source": [
    "results_dict"
   ]
  },
  {
   "cell_type": "code",
   "execution_count": 34,
   "id": "04e5d414",
   "metadata": {},
   "outputs": [
    {
     "name": "stdout",
     "output_type": "stream",
     "text": [
      "Loss:\t 0.39891862869262695\n",
      "Accuracy: 0.8703200221061707\n"
     ]
    }
   ],
   "source": [
    "print('Loss:\\t', results_dict.get('loss'))\n",
    "print('Accuracy:', results_dict.get('accuracy'))"
   ]
  },
  {
   "cell_type": "markdown",
   "id": "ce2681f7",
   "metadata": {},
   "source": [
    "### Using a trained network to generate predictions on new data"
   ]
  },
  {
   "cell_type": "code",
   "execution_count": 35,
   "id": "53223fec",
   "metadata": {},
   "outputs": [
    {
     "data": {
      "text/plain": [
       "array([[0.07348417],\n",
       "       [0.9999988 ],\n",
       "       [0.5190495 ],\n",
       "       ...,\n",
       "       [0.07433342],\n",
       "       [0.04769901],\n",
       "       [0.8515359 ]], dtype=float32)"
      ]
     },
     "execution_count": 35,
     "metadata": {},
     "output_type": "execute_result"
    }
   ],
   "source": [
    "model.predict(x_test)"
   ]
  },
  {
   "cell_type": "markdown",
   "id": "5a8e4534",
   "metadata": {},
   "source": [
    "As you can see, the network is confident with some samples but less confident for others. We achieved a los of 0.40 and an accuracy of 88%."
   ]
  },
  {
   "cell_type": "code",
   "execution_count": null,
   "id": "a30fac7f",
   "metadata": {},
   "outputs": [],
   "source": []
  }
 ],
 "metadata": {
  "kernelspec": {
   "display_name": "tensorflow",
   "language": "python",
   "name": "tensorflow"
  },
  "language_info": {
   "codemirror_mode": {
    "name": "ipython",
    "version": 3
   },
   "file_extension": ".py",
   "mimetype": "text/x-python",
   "name": "python",
   "nbconvert_exporter": "python",
   "pygments_lexer": "ipython3",
   "version": "3.8.8"
  }
 },
 "nbformat": 4,
 "nbformat_minor": 5
}
